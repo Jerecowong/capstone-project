{
 "metadata": {
  "name": "",
  "signature": "sha256:c12002f544eac78520d1d0a0996bd04cd74b081f4a5b373facd390b2f065d233"
 },
 "nbformat": 3,
 "nbformat_minor": 0,
 "worksheets": []
}